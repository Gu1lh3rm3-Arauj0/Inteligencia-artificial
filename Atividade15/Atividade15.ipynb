{
  "cells": [
    {
      "cell_type": "code",
      "execution_count": 1,
      "metadata": {
        "id": "t8vZ7l6IX8ZV"
      },
      "outputs": [],
      "source": [
        "import pandas as pd\n",
        "import numpy as np\n",
        "from sklearn.feature_extraction.text import CountVectorizer\n",
        "from sklearn.model_selection import train_test_split\n",
        "from sklearn.naive_bayes import MultinomialNB\n",
        "from sklearn.neighbors import KNeighborsClassifier\n",
        "from sklearn.metrics import accuracy_score"
      ]
    },
    {
      "cell_type": "code",
      "execution_count": 2,
      "metadata": {
        "id": "AZsJQgBle39-"
      },
      "outputs": [],
      "source": [
        "def ler_stopwords(caminho):\n",
        "    with open(caminho, 'r', encoding='utf-8') as arquivo:\n",
        "        return [linha.strip() for linha in arquivo.readlines()]"
      ]
    },
    {
      "cell_type": "code",
      "execution_count": 3,
      "metadata": {
        "id": "NStj8Sr7X_XU"
      },
      "outputs": [],
      "source": [
        "def ler_arquivo(caminho):\n",
        "    with open(caminho, 'r', encoding='utf-8', errors='ignore') as arquivo:\n",
        "        return arquivo.readlines()"
      ]
    },
    {
      "cell_type": "code",
      "execution_count": 4,
      "metadata": {
        "id": "TBSxv8p1e9MV"
      },
      "outputs": [],
      "source": [
        "stop_words = ler_stopwords('stopwords.txt')"
      ]
    },
    {
      "cell_type": "code",
      "execution_count": 5,
      "metadata": {
        "id": "uxvye06Ba1uu"
      },
      "outputs": [],
      "source": [
        "textos_sci_med = ler_arquivo('sci.med.txt')\n",
        "textos_comp_windows = ler_arquivo('comp.windows.x.txt')"
      ]
    },
    {
      "cell_type": "code",
      "execution_count": 6,
      "metadata": {
        "id": "6QzcWvu4YNWX"
      },
      "outputs": [],
      "source": [
        "textos = textos_sci_med + textos_comp_windows\n",
        "rotulos = [1] * len(textos_sci_med) + [2] * len(textos_comp_windows)"
      ]
    },
    {
      "cell_type": "code",
      "execution_count": 7,
      "metadata": {
        "id": "FNA77REUYQnZ"
      },
      "outputs": [],
      "source": [
        "vectorizer = CountVectorizer(stop_words=stop_words)\n",
        "X = vectorizer.fit_transform(textos)\n",
        "y = rotulos"
      ]
    },
    {
      "cell_type": "code",
      "execution_count": null,
      "metadata": {
        "id": "aEWuX0qIgtTy"
      },
      "outputs": [],
      "source": [
        "df = pd.DataFrame({\n",
        "    'Texto': linhas,\n",
        "    'Classe': ['Negativo'] * len(linhas)\n",
        "})\n",
        "X = vectorizer.fit_transform(df['Texto'])\n",
        "df_bow = pd.DataFrame(X.toarray(), columns=vectorizer.get_feature_names_out())\n",
        "df_bow['Rótulo'] = df['Classe']\n",
        "print(df_bow)"
      ]
    },
    {
      "cell_type": "code",
      "execution_count": 9,
      "metadata": {
        "id": "42i28EnLYWZn"
      },
      "outputs": [],
      "source": [
        "# Dividição dos dados em treino e teste\n",
        "X_train, X_test, y_train, y_test = train_test_split(X, y, test_size=0.3, random_state=42)"
      ]
    },
    {
      "cell_type": "code",
      "execution_count": 10,
      "metadata": {
        "id": "UNFYgaf4YfB8"
      },
      "outputs": [],
      "source": [
        "# Classificação com Naive Bayes\n",
        "nb_classifier = MultinomialNB()\n",
        "nb_classifier.fit(X_train, y_train)\n",
        "nb_pred = nb_classifier.predict(X_test)\n",
        "nb_accuracy = accuracy_score(y_test, nb_pred)"
      ]
    },
    {
      "cell_type": "code",
      "execution_count": null,
      "metadata": {
        "id": "ULQNCES7Yfny"
      },
      "outputs": [],
      "source": [
        "# Classificação com k-NN\n",
        "knn_classifier = KNeighborsClassifier()\n",
        "knn_classifier.fit(X_train, y_train)\n",
        "knn_pred = knn_classifier.predict(X_test)\n",
        "knn_accuracy = accuracy_score(y_test, knn_pred)"
      ]
    },
    {
      "cell_type": "code",
      "execution_count": null,
      "metadata": {
        "id": "Gj88jitIYjCM"
      },
      "outputs": [],
      "source": [
        "print(f\"Naive Bayes Accuracy: {nb_accuracy}\")\n",
        "print(f\"k-NN Accuracy: {knn_accuracy}\")"
      ]
    }
  ],
  "metadata": {
    "colab": {
      "provenance": []
    },
    "kernelspec": {
      "display_name": "Python 3",
      "name": "python3"
    },
    "language_info": {
      "codemirror_mode": {
        "name": "ipython",
        "version": 3
      },
      "file_extension": ".py",
      "mimetype": "text/x-python",
      "name": "python",
      "nbconvert_exporter": "python",
      "pygments_lexer": "ipython3",
      "version": "3.11.2"
    }
  },
  "nbformat": 4,
  "nbformat_minor": 0
}
