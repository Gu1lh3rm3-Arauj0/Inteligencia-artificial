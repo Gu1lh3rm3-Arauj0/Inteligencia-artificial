{
  "nbformat": 4,
  "nbformat_minor": 0,
  "metadata": {
    "colab": {
      "provenance": []
    },
    "kernelspec": {
      "name": "python3",
      "display_name": "Python 3"
    },
    "language_info": {
      "name": "python"
    }
  },
  "cells": [
    {
      "cell_type": "code",
      "execution_count": null,
      "metadata": {
        "id": "q2H9-L2a0T0f",
        "colab": {
          "base_uri": "https://localhost:8080/",
          "height": 53
        },
        "outputId": "be0628fa-dff3-4cac-bea0-f3435863b26e"
      },
      "outputs": [
        {
          "output_type": "execute_result",
          "data": {
            "text/plain": [
              "'\\nGuilherme Araújo Mendes de Souza - 156437\\nUNIFESP - ICT\\nIA\\n\\nAtividade 10\\n\\nFontes:\\nhttps://www.geeksforgeeks.org/exploratory-data-analysis-on-iris-dataset/\\nhttps://www.youtube.com/watch?v=y0NHzMEanIU\\n'"
            ],
            "application/vnd.google.colaboratory.intrinsic+json": {
              "type": "string"
            }
          },
          "metadata": {},
          "execution_count": 2
        }
      ],
      "source": [
        "\"\"\"\n",
        "Guilherme Araújo Mendes de Souza - 156437\n",
        "UNIFESP - ICT\n",
        "IA\n",
        "\n",
        "Atividade 10\n",
        "\n",
        "Fontes:\n",
        "https://www.geeksforgeeks.org/exploratory-data-analysis-on-iris-dataset/\n",
        "https://www.youtube.com/watch?v=y0NHzMEanIU\n",
        "\"\"\""
      ]
    },
    {
      "cell_type": "code",
      "source": [
        "import pandas as pd\n",
        "import numpy as np\n",
        "import matplotlib.pyplot as plt\n",
        "import seaborn as sns"
      ],
      "metadata": {
        "id": "XvIz0AbV1FOy"
      },
      "execution_count": null,
      "outputs": []
    },
    {
      "cell_type": "code",
      "source": [
        "#Algoritmo KNN\n",
        "def distancia_euclidiana(x1, x2):\n",
        "    return np.sqrt(np.sum((x1 - x2) ** 2))\n",
        "\n",
        "def prever(X_treino, y_treino, x_teste, k):\n",
        "    distancias = [distancia_euclidiana(x_teste, x) for x in X_treino]\n",
        "    k_indices = np.argsort(distancias)[:k]\n",
        "    k_rotulos_mais_comuns = [y_treino[i] for i in k_indices]\n",
        "    mais_comum = np.bincount(k_rotulos_mais_comuns).argmax()\n",
        "    return mais_comum\n",
        "\n",
        "def vizinhos(X_treino, y_treino, X_teste, k):\n",
        "    previsoes = [prever(X_treino, y_treino, x, k) for x in X_teste]\n",
        "    return previsoes"
      ],
      "metadata": {
        "id": "vVtvyX9r7W6B"
      },
      "execution_count": null,
      "outputs": []
    },
    {
      "cell_type": "code",
      "source": [
        "#Algoritmo Naive Bayes\n",
        "def treinar_naive_bayes(X, y):\n",
        "    classes = np.unique(y)\n",
        "    num_classes = len(classes)\n",
        "    probs_classe = {}\n",
        "    probs_palavra = {}\n",
        "\n",
        "    for c in classes:\n",
        "        probs_classe[c] = np.sum(y == c) / len(y)\n",
        "        indices_classe = np.where(y == c)\n",
        "        palavras_na_classe = [X[i].split() for i in indices_classe[0]]\n",
        "        palavras_na_classe = [palavra for sublist in palavras_na_classe for palavra in sublist]\n",
        "        probs_palavra[c] = {}\n",
        "        total_palavras = len(palavras_na_classe)\n",
        "\n",
        "        for palavra in palavras_na_classe:\n",
        "            probs_palavra[c][palavra] = (palavras_na_classe.count(palavra) + 1) / (total_palavras + len(set(palavras_na_classe)))\n",
        "\n",
        "    return probs_classe, probs_palavra\n",
        "\n",
        "def prever_naive_bayes(texto, probs_classe, probs_palavra):\n",
        "    melhor_classe = None\n",
        "    max_probabilidade = -1\n",
        "\n",
        "    for c, prob in probs_classe.items():\n",
        "        palavras = texto.split()\n",
        "        prob_c = np.log(prob)\n",
        "        for palavra in palavras:\n",
        "            if palavra in probs_palavra[c]:\n",
        "                prob_c += np.log(probs_palavra[c][palavra])\n",
        "        if prob_c > max_probabilidade:\n",
        "            max_probabilidade = prob_c\n",
        "            melhor_classe = c\n",
        "\n",
        "    return melhor_classe"
      ],
      "metadata": {
        "id": "6W9T5q8E7jXa"
      },
      "execution_count": null,
      "outputs": []
    },
    {
      "cell_type": "code",
      "source": [
        "#Algoritmo Hunt\n",
        "\n",
        "def ganho_informacao(dados, rótulos, índice_característica):\n",
        "    valores_únicos = np.unique(dados[:, índice_característica])\n",
        "    entropia_total = 0\n",
        "\n",
        "    for valor in valores_únicos:\n",
        "        subset = dados[dados[:, índice_característica] == valor]\n",
        "        probabilidade = len(subset) / len(dados)\n",
        "        entropia = calcula_entropia(subset, rótulos)\n",
        "        entropia_total += probabilidade * entropia\n",
        "\n",
        "    entropia_atributo = calcula_entropia(dados, rótulos)\n",
        "    ganho = entropia_atributo - entropia_total\n",
        "\n",
        "    return ganho\n",
        "\n",
        "def calcula_entropia(dados, rótulos):\n",
        "    entropia = 0\n",
        "    classes = np.unique(rótulos)\n",
        "\n",
        "    for classe in classes:\n",
        "        p = len(rótulos[rótulos == classe]) / len(rótulos)\n",
        "        entropia -= p * np.log2(p)\n",
        "\n",
        "    return entropia\n",
        "\n",
        "def arvore(dados, rótulos, características):\n",
        "    if len(np.unique(rótulos)) == 1:\n",
        "        return np.unique(rótulos)[0]\n",
        "    elif len(características) == 0:\n",
        "        return np.argmax(np.bincount(rótulos))\n",
        "\n",
        "    ganhos = []\n",
        "    for índice_característica in características:\n",
        "        ganhos.append(ganho_informacao(dados, rótulos, índice_característica))\n",
        "\n",
        "    melhor_característica = características[np.argmax(ganhos)]\n",
        "    árvore = {melhor_característica: {}}\n",
        "    características_restantes = [x for x in características if x != melhor_característica]\n",
        "\n",
        "    for valor in np.unique(dados[:, melhor_característica]):\n",
        "        subset = dados[dados[:, melhor_característica] == valor]\n",
        "        subrótulos = rótulos[dados[:, melhor_característica] == valor]\n",
        "        árvore[melhor_característica][valor] = arvore(subset, subrótulos, características_restantes)\n",
        "\n",
        "    return árvore"
      ],
      "metadata": {
        "id": "LBKk20jO7kYh"
      },
      "execution_count": null,
      "outputs": []
    },
    {
      "cell_type": "code",
      "source": [
        "df = pd.read_csv ('/content/Iris.csv')\n",
        "df.head()"
      ],
      "metadata": {
        "id": "YgE44uo41OQC"
      },
      "execution_count": null,
      "outputs": []
    },
    {
      "cell_type": "code",
      "source": [
        "df.shape"
      ],
      "metadata": {
        "id": "2_-pmOVS2A7h"
      },
      "execution_count": null,
      "outputs": []
    },
    {
      "cell_type": "code",
      "source": [
        "df.info()\n",
        "df.describe()"
      ],
      "metadata": {
        "id": "d5kbXE3b2WXC"
      },
      "execution_count": null,
      "outputs": []
    },
    {
      "cell_type": "code",
      "source": [
        "df.isnull().sum()"
      ],
      "metadata": {
        "id": "QDvKmJDP2W7Z"
      },
      "execution_count": null,
      "outputs": []
    },
    {
      "cell_type": "code",
      "source": [
        "sns.countplot(x='Species', data=df, )\n",
        "plt.show()"
      ],
      "metadata": {
        "id": "riKYbZEI2bQB"
      },
      "execution_count": null,
      "outputs": []
    },
    {
      "cell_type": "code",
      "source": [
        "sns.scatterplot(x='SepalLengthCm', y='SepalWidthCm',\n",
        "                hue='Species', data=df, )\n",
        "\n",
        "plt.legend(bbox_to_anchor=(1, 1), loc=2)\n",
        "\n",
        "plt.show()"
      ],
      "metadata": {
        "id": "AV9CaElJ2qHB"
      },
      "execution_count": null,
      "outputs": []
    },
    {
      "cell_type": "code",
      "source": [
        "sns.pairplot(df.drop(['Id'], axis = 1),\n",
        "             hue='Species', height=2)"
      ],
      "metadata": {
        "id": "PEFw8p7M3EN6"
      },
      "execution_count": null,
      "outputs": []
    },
    {
      "cell_type": "code",
      "source": [
        "fig, axes = plt.subplots(2, 2, figsize=(10,10))\n",
        "\n",
        "axes[0,0].set_title(\"Sepal Length\")\n",
        "axes[0,0].hist(df['SepalLengthCm'], bins=7)\n",
        "\n",
        "axes[0,1].set_title(\"Sepal Width\")\n",
        "axes[0,1].hist(df['SepalWidthCm'], bins=5);\n",
        "\n",
        "axes[1,0].set_title(\"Petal Length\")\n",
        "axes[1,0].hist(df['PetalLengthCm'], bins=6);\n",
        "\n",
        "axes[1,1].set_title(\"Petal Width\")\n",
        "axes[1,1].hist(df['PetalWidthCm'], bins=6);"
      ],
      "metadata": {
        "id": "LS70eacU4thK"
      },
      "execution_count": null,
      "outputs": []
    },
    {
      "cell_type": "code",
      "source": [
        "plot = sns.FacetGrid(df, hue=\"Species\")\n",
        "plot.map(sns.distplot, \"SepalLengthCm\").add_legend()\n",
        "\n",
        "plot = sns.FacetGrid(df, hue=\"Species\")\n",
        "plot.map(sns.distplot, \"SepalWidthCm\").add_legend()\n",
        "\n",
        "plot = sns.FacetGrid(df, hue=\"Species\")\n",
        "plot.map(sns.distplot, \"PetalLengthCm\").add_legend()\n",
        "\n",
        "plot = sns.FacetGrid(df, hue=\"Species\")\n",
        "plot.map(sns.distplot, \"PetalWidthCm\").add_legend()\n",
        "\n",
        "plt.show()"
      ],
      "metadata": {
        "id": "GHxdb1eZ54lp"
      },
      "execution_count": null,
      "outputs": []
    },
    {
      "cell_type": "code",
      "source": [
        "df.corr(method='pearson')"
      ],
      "metadata": {
        "id": "eKYhkkRf56Gq"
      },
      "execution_count": null,
      "outputs": []
    },
    {
      "cell_type": "code",
      "source": [
        "sns.heatmap(df.corr(method='pearson').drop(\n",
        "  ['Id'], axis=1).drop(['Id'], axis=0),\n",
        "            annot = True);\n",
        "\n",
        "plt.show()"
      ],
      "metadata": {
        "id": "VtLQ6lha599x"
      },
      "execution_count": null,
      "outputs": []
    },
    {
      "cell_type": "code",
      "source": [
        "def graph(y):\n",
        "    sns.boxplot(x=\"Species\", y=y, data=df)\n",
        "\n",
        "plt.figure(figsize=(10,10))\n",
        "\n",
        "plt.subplot(221)\n",
        "graph('SepalLengthCm')\n",
        "\n",
        "plt.subplot(222)\n",
        "graph('SepalWidthCm')\n",
        "\n",
        "plt.subplot(223)\n",
        "graph('PetalLengthCm')\n",
        "\n",
        "plt.subplot(224)\n",
        "graph('PetalWidthCm')\n",
        "\n",
        "plt.show()"
      ],
      "metadata": {
        "id": "R2ika_nh6yKR"
      },
      "execution_count": null,
      "outputs": []
    },
    {
      "cell_type": "code",
      "source": [
        "sns.boxplot(x='SepalWidthCm', data=df)"
      ],
      "metadata": {
        "id": "FIFq957E682R"
      },
      "execution_count": null,
      "outputs": []
    },
    {
      "cell_type": "code",
      "source": [
        "Q1 = np.percentile(df['SepalWidthCm'], 25,\n",
        "                interpolation = 'midpoint')\n",
        "\n",
        "Q3 = np.percentile(df['SepalWidthCm'], 75,\n",
        "                interpolation = 'midpoint')\n",
        "IQR = Q3 - Q1\n",
        "\n",
        "print(\"Old Shape: \", df.shape)\n",
        "\n",
        "upper = np.where(df['SepalWidthCm'] >= (Q3+1.5*IQR))\n",
        "\n",
        "lower = np.where(df['SepalWidthCm'] <= (Q1-1.5*IQR))\n",
        "\n",
        "df.drop(upper[0], inplace = True)\n",
        "df.drop(lower[0], inplace = True)\n",
        "\n",
        "print(\"New Shape: \", df.shape)\n",
        "\n",
        "sns.boxplot(x='SepalWidthCm', data=df)"
      ],
      "metadata": {
        "id": "1sXmjohJ6-b5"
      },
      "execution_count": null,
      "outputs": []
    },
    {
      "cell_type": "code",
      "source": [
        "#Separando 70% dos dados para treino e 30% para teste\n",
        "from sklearn.model_selection import train_test_split\n",
        "\n",
        "X = df[[\"SepalLengthCm\", \"SepalWidthCm\", \"PetalLengthCm\", \"PetalWidthCm\"]]\n",
        "y = df[\"Species\"]\n",
        "\n",
        "X_treino, X_teste, y_treino, y_teste = train_test_split(X, y, test_size=0.3, random_state=42)"
      ],
      "metadata": {
        "id": "PPbEyhPL7tuZ"
      },
      "execution_count": null,
      "outputs": []
    },
    {
      "cell_type": "code",
      "source": [
        "from sklearn.metrics import accuracy_score\n",
        "\n",
        "k = 3\n",
        "\n",
        "y_pred_knn = []\n",
        "\n",
        "for i in X_teste.values:\n",
        "  classe = vizinhos(X_treino.values, y_treino, i, k)\n",
        "  y_pred_knn.append(classe)\n",
        "\n",
        "acuracia_knn = accuracy_score(y_teste, y_pred_knn)\n",
        "print(\"KNN:\", acuracia_knn)"
      ],
      "metadata": {
        "id": "4_tYNx2A7yth"
      },
      "execution_count": null,
      "outputs": []
    },
    {
      "cell_type": "code",
      "source": [
        "probs_classe, probs_palavra = treinar_naive_bayes(X_treino.values, y_treino)\n",
        "y_pred_bayes = [prever_naive_bayes(texto, probs_classe, probs_palavra) for texto in X_teste]\n",
        "\n",
        "acuracia_bayes = accuracy_score(y_teste, y_pred_bayes)\n",
        "print(\"Naive Bayes:\", acuracia_bayes)"
      ],
      "metadata": {
        "id": "mytoqvzEbNVw"
      },
      "execution_count": null,
      "outputs": []
    },
    {
      "cell_type": "code",
      "source": [
        "arvore_decisão = arvore(X_treino.values, y_treino, X_teste.values)\n",
        "print(arvore_decisão)"
      ],
      "metadata": {
        "id": "V0sqGsQ1f42o"
      },
      "execution_count": null,
      "outputs": []
    }
  ]
}