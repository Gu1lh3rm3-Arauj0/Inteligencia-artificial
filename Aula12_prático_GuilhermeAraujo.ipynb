{
  "nbformat": 4,
  "nbformat_minor": 0,
  "metadata": {
    "colab": {
      "provenance": []
    },
    "kernelspec": {
      "name": "python3",
      "display_name": "Python 3"
    },
    "language_info": {
      "name": "python"
    }
  },
  "cells": [
    {
      "cell_type": "code",
      "execution_count": 1,
      "metadata": {
        "id": "SoAdc0gi5sDh"
      },
      "outputs": [],
      "source": [
        "import numpy as np\n",
        "import matplotlib.pyplot as plt\n",
        "from sklearn.cluster import KMeans, AgglomerativeClustering"
      ]
    },
    {
      "cell_type": "code",
      "source": [
        "data = np.loadtxt(\"/content/flame.txt\")\n",
        "X = data[:, :2]\n",
        "y = data[:, 2]"
      ],
      "metadata": {
        "id": "wJ1HaEJt5wuA"
      },
      "execution_count": 14,
      "outputs": []
    },
    {
      "cell_type": "code",
      "source": [
        "n_clusters = 7\n",
        "kmeans = KMeans(n_clusters=n_clusters, random_state=0)\n",
        "single = AgglomerativeClustering(n_clusters=n_clusters, linkage=\"single\")"
      ],
      "metadata": {
        "id": "SXP6nfQZ5zL4"
      },
      "execution_count": 15,
      "outputs": []
    },
    {
      "cell_type": "code",
      "source": [
        "y_kmeans = kmeans.fit_predict(X)\n",
        "y_single = single.fit_predict(X)"
      ],
      "metadata": {
        "id": "NkNEkT5U52b4"
      },
      "execution_count": null,
      "outputs": []
    },
    {
      "cell_type": "code",
      "source": [
        "plt.figure(figsize=(12, 6))\n",
        "plt.subplot(131)\n",
        "plt.scatter(X[:, 0], X[:, 1], c=y, cmap=\"rainbow\")\n",
        "plt.title(\"Dados originais\")\n",
        "plt.subplot(132)\n",
        "plt.scatter(X[:, 0], X[:, 1], c=y_kmeans, cmap=\"rainbow\")\n",
        "plt.title(\"K-means\")\n",
        "plt.subplot(133)\n",
        "plt.scatter(X[:, 0], X[:, 1], c=y_single, cmap=\"rainbow\")\n",
        "plt.title(\"Single linkage\")\n",
        "plt.show()"
      ],
      "metadata": {
        "id": "wU6Qpxlh54Yf"
      },
      "execution_count": null,
      "outputs": []
    }
  ]
}